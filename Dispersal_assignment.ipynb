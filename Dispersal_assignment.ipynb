{
 "cells": [
  {
   "cell_type": "markdown",
   "metadata": {},
   "source": [
    "# A Null Model for Dispersal"
   ]
  },
  {
   "cell_type": "markdown",
   "metadata": {},
   "source": [
    "## Setup"
   ]
  },
  {
   "cell_type": "markdown",
   "metadata": {},
   "source": [
    "Let's imagine that we're behavioral ecologists interested in how individuals of some species move around a landscape. To keep things simple at the beginning, we can think about the landscape as a grid of cells (the actual size of our cells would obviously depend on what species we're interested in). Our null model is that each individual moves in a random direction (up, down, left, or right) for a fixed distance (1 grid cell) each day. We'd like to run a simulation to help us gain some intuition for the predictions of our model regarding how far away each individual might be from where they started after a certain number of days."
   ]
  },
  {
   "cell_type": "markdown",
   "metadata": {},
   "source": [
    "To begin, we'll need to import two Python modules with functions that we'll use later on (otherwise, we wouldn't have access to these functions to use in our code). As long as these modules are distributed with the standard installation of Python, all we have to do to access their functions is to invoke them with the word `import`. For instance, here we'll `import` the `random` module, which will allow us to run a simulation that involves drawing random values."
   ]
  },
  {
   "cell_type": "code",
   "execution_count": null,
   "metadata": {},
   "outputs": [],
   "source": [
    "import random"
   ]
  },
  {
   "cell_type": "markdown",
   "metadata": {},
   "source": [
    "Note that when you import a module, no output is typically displayed. Everything should be good as long as you don't see any errors.\n",
    "\n",
    "Now we're going to do something similar with the `copy` module. But instead of importing the entire module, we're just going to ask Python to import the specific function called `copy` (I know, it's a little confusing to have a function with the same name as the module.)"
   ]
  },
  {
   "cell_type": "code",
   "execution_count": null,
   "metadata": {},
   "outputs": [],
   "source": [
    "from copy import copy"
   ]
  },
  {
   "cell_type": "markdown",
   "metadata": {},
   "source": [
    "In statements like these, the word after `from` is the name of the module, and the word after `import` is the name of the function you want.\n",
    "\n",
    "Next, we need to set up some basic conditions for our simulation. First, let's define the directions that individuals can move. To keep things concise, we'll abbreviate up as `u`, down as `d`, left as `l`, and right as `r`."
   ]
  },
  {
   "cell_type": "code",
   "execution_count": null,
   "metadata": {},
   "outputs": [],
   "source": [
    "dirs = [\"u\",\"u\",\"u\",\"u\",\"d\",\"l\",\"r\"]"
   ]
  },
  {
   "cell_type": "markdown",
   "metadata": {},
   "source": [
    "Next, let's set the number of days we want to simulate."
   ]
  },
  {
   "cell_type": "code",
   "execution_count": null,
   "metadata": {},
   "outputs": [],
   "source": [
    "days = 10"
   ]
  },
  {
   "cell_type": "markdown",
   "metadata": {},
   "source": [
    "We'll also set a starting position for each individual as `[0,0]`."
   ]
  },
  {
   "cell_type": "code",
   "execution_count": null,
   "metadata": {},
   "outputs": [],
   "source": [
    "pos = [0,0]"
   ]
  },
  {
   "cell_type": "markdown",
   "metadata": {},
   "source": [
    "The notation we'll use for an individual's position in the grid is to have the first number in the pair represent the horizontal axis, and the second number represent the vertical axis. Positive values indicate positions up or to the right of where we started, and negative values indicate positions down or to the left of where we started.\n",
    "\n",
    "We'll also want to keep an ongoing log of where the individual is each day, so we'll start an empty list called `posLog`."
   ]
  },
  {
   "cell_type": "code",
   "execution_count": null,
   "metadata": {},
   "outputs": [],
   "source": [
    "posLog = []"
   ]
  },
  {
   "cell_type": "markdown",
   "metadata": {},
   "source": [
    "The last step in our setup will be to make the individual's starting position the first entry in our position log."
   ]
  },
  {
   "cell_type": "code",
   "execution_count": null,
   "metadata": {},
   "outputs": [],
   "source": [
    "posLog.append( copy(pos) )\n",
    "posLog"
   ]
  },
  {
   "cell_type": "markdown",
   "metadata": {},
   "source": [
    "This is the first place where we've used the `copy()` function from the `copy` module. The reason we're using it is because we're going to update the position of our individual (recorded in `pos`) each day, but we want their starting position to be fixed at `[0,0]`. If we didn't use the `copy()` function, each time we changed `pos`, the values we added to `posLog` would also change.\n",
    "\n",
    "If this doesn't make sense, try taking a look back at the notes from last week. Or just make up an example and try it yourself! Create a small list, then make it an entry in a bigger list __without__ using `copy()`. Now, go back and change the values of the small list, and see what the big list looks like. \n",
    "\n",
    "Also, take a look at `posLog` currently. What is it? It's a list of lists! But so far, it only has one list in it - our starting position. As we keep going, it will hold a whole series of lists, containing the coordinates for each position our individual has moved."
   ]
  },
  {
   "cell_type": "markdown",
   "metadata": {},
   "source": [
    "## Simulation"
   ]
  },
  {
   "cell_type": "markdown",
   "metadata": {},
   "source": [
    "Here's where the rubber meets the road. We need to draw a random direction of movement for each day in our simulation, and update our position accordingly. I'll give you some hints about how to set this up, but you'll need to fill in most of it. Anywhere you see `...` indicates code that you need to write."
   ]
  },
  {
   "cell_type": "code",
   "execution_count": null,
   "metadata": {},
   "outputs": [],
   "source": [
    "for ...:  # Loop over the specified number of days\n",
    "    move = random.choice(dirs) # Randomly draws a direction - u, d, l, or r\n",
    "    if move == ...: # Test what direction was drawn and update position accordingly\n",
    "        ...\n",
    "    elif ...:\n",
    "        ...\n",
    "    ...\n",
    "    else:\n",
    "        print(\"Something's wrong! Direction is not u, d, l, or r.\")\n",
    "    posLog.append( copy(pos) )"
   ]
  },
  {
   "cell_type": "markdown",
   "metadata": {},
   "source": [
    "## Summary"
   ]
  },
  {
   "cell_type": "markdown",
   "metadata": {},
   "source": [
    "Now, I'm going to include a custom function that takes all the pairs of coordinates in `posLog` and makes a little map drawn entirely with ascii (plain text) characters. Don't worry too much about this function for now, we'll just use it. Very soon, we'll look at how to write our own functions."
   ]
  },
  {
   "cell_type": "code",
   "execution_count": null,
   "metadata": {},
   "outputs": [],
   "source": [
    "def drawMap(posLog):\n",
    "    \"\"\"Function to draw an ascii map.\"\"\"\n",
    "    \n",
    "    map = []\n",
    "\n",
    "    absMax = 0\n",
    "    for pos in posLog:\n",
    "        if abs(pos[0]) > absMax:\n",
    "            absMax = abs(pos[0])\n",
    "        if abs(pos[1]) > absMax:\n",
    "            absMax = abs(pos[1])\n",
    "    size = (absMax * 2) + 1\n",
    "\n",
    "    for _ in range(size):\n",
    "        map.append([])\n",
    "\n",
    "    for row in map:\n",
    "        for i in range(size):\n",
    "            row.append(\"-\")\n",
    "\n",
    "    for pos in posLog:\n",
    "        map[-1*(pos[1]+absMax+1)][pos[0]+absMax] = \"*\"\n",
    "\n",
    "    for row in map:\n",
    "        rStr = \"\"\n",
    "        for c in row:\n",
    "            rStr += str(c)\n",
    "        print(rStr)\n"
   ]
  },
  {
   "cell_type": "markdown",
   "metadata": {},
   "source": [
    "Now let's draw a map! We'll execute our new function and pass it the position log as an argument."
   ]
  },
  {
   "cell_type": "code",
   "execution_count": null,
   "metadata": {},
   "outputs": [],
   "source": [
    "drawMap(posLog)"
   ]
  },
  {
   "cell_type": "markdown",
   "metadata": {},
   "source": [
    "In these maps, the dashes (`-`) represent the entire landscape background, and the asterisks (`*`) represent the grid cells visited by the individual. They also start right in the middle.\n",
    "\n",
    "Now, look at the last position of the individual (i.e., the last entry in `posLog` - hint, try `posLog[-1]`). Write some code to calculate how far away this is from where the individual started (i.e., `[0,0]`). Remember the Pythagorean theorem? If not, there's always Wikipedia."
   ]
  },
  {
   "cell_type": "code",
   "execution_count": null,
   "metadata": {},
   "outputs": [],
   "source": [
    "posLog[-1]"
   ]
  },
  {
   "cell_type": "code",
   "execution_count": null,
   "metadata": {},
   "outputs": [],
   "source": [
    "# Write code here to calculate distance from the starting point - [0,0]."
   ]
  },
  {
   "cell_type": "markdown",
   "metadata": {},
   "source": [
    "How do the final distances that individuals have moved from where they originally started compare to the number of days they've been moving?\n",
    "\n",
    "Run your simulations a bunch of times and record the distances. To rerun the simulation, first select the \"Cell\" dropdown menu from the top, then select \"All Output\", then select \"Clear\".\n",
    "\n",
    "What if you collected actual data from your species of interest and their final positions after __10 days__ were represented by the following coordinates. Can the random model of movement explain these data well?\n",
    "\n",
    "- [1,1]\n",
    "- [1,3]\n",
    "- [-1,5]\n",
    "- [2,6]\n",
    "- [1,-1]\n",
    "- [2,4]\n",
    "- [-2,4]\n",
    "- [1,9]\n",
    "- [2,4]\n",
    "- [-2,2]"
   ]
  }
 ],
 "metadata": {
  "kernelspec": {
   "display_name": "Python 3",
   "language": "python",
   "name": "python3"
  },
  "language_info": {
   "codemirror_mode": {
    "name": "ipython",
    "version": 3
   },
   "file_extension": ".py",
   "mimetype": "text/x-python",
   "name": "python",
   "nbconvert_exporter": "python",
   "pygments_lexer": "ipython3",
   "version": "3.6.4"
  }
 },
 "nbformat": 4,
 "nbformat_minor": 2
}
